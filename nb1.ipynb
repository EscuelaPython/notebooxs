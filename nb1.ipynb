{
 "cells": [
  {
   "cell_type": "markdown",
   "metadata": {},
   "source": [
    "<h1>Ciencia de Datos: La estadistica del S.XXI</h1>"
   ]
  },
  {
   "cell_type": "code",
   "execution_count": 8,
   "metadata": {},
   "outputs": [
    {
     "name": "stdout",
     "output_type": "stream",
     "text": [
      "[ 4406.25781937 31676.40680337 18686.63416575 ... 62221.65745892\n",
      " 42062.12131166 41867.39703748]\n"
     ]
    },
    {
     "data": {
      "text/plain": [
       "31723.983316934664"
      ]
     },
     "execution_count": 8,
     "metadata": {},
     "output_type": "execute_result"
    }
   ],
   "source": [
    "import numpy as np\n",
    "ingresos=np.random.normal(32000, 16000, 7000)\n",
    "print(ingresos)\n",
    "np.mean(ingresos)"
   ]
  },
  {
   "cell_type": "markdown",
   "metadata": {},
   "source": [
    "<h3>Introducción a SciPy y Numpy:</h3>\n",
    "\n",
    "¿ Qué es Scipy ?\n",
    "\n",
    "Es una libreria de python para computación cientifica que utiliza Numpy como su base\n",
    "\n",
    "¿ Qué es Numpy ?\n",
    "\n",
    "Es una libreria que se utiliza para computación cientifica con Python \n",
    "\n"
   ]
  },
  {
   "cell_type": "code",
   "execution_count": 10,
   "metadata": {},
   "outputs": [
    {
     "name": "stdout",
     "output_type": "stream",
     "text": [
      "La media geométrica de array es: 31.62277660168379\n"
     ]
    }
   ],
   "source": [
    "import scipy.stats\n",
    "# Definimos un array de Numpy con valores\n",
    "array=[1,10,100,1000]\n",
    "\n",
    "#Calculamos la media geométrica usando scipy.status.gmean\n",
    "media_geometrica=scipy.stats.gmean(array)\n",
    "\n",
    "print(f\"La media geométrica de array es: {media_geometrica}\")\n"
   ]
  },
  {
   "cell_type": "markdown",
   "metadata": {},
   "source": [
    "La media geométrica es una medida de tendencia central que se utiliza para calcular el promedio de un conjunto de números, pero en lugar de sumarlos (como en la media aritmética), se multiplican y luego se toma la raíz enésima del resultado\n",
    "\n",
    " "
   ]
  },
  {
   "cell_type": "code",
   "execution_count": 12,
   "metadata": {},
   "outputs": [
    {
     "name": "stdout",
     "output_type": "stream",
     "text": [
      "La media armónica del array es: 2.264150943396227\n",
      "La media arimética del array es de: 3.6\n"
     ]
    }
   ],
   "source": [
    "import scipy.stats\n",
    "array=[1,2,3,4,8]\n",
    "\n",
    "#Calculamos la media armonica usando scipy.status.hmean\n",
    "media_armonica=scipy.stats.hmean(array)\n",
    "media_aritmetica=np.mean(array)\n",
    "print(f\"La media armónica del array es: {media_armonica}\")\n",
    "print(f\"La media arimética del array es de: {media_aritmetica}\")"
   ]
  },
  {
   "cell_type": "markdown",
   "metadata": {},
   "source": []
  }
 ],
 "metadata": {
  "kernelspec": {
   "display_name": "base",
   "language": "python",
   "name": "python3"
  },
  "language_info": {
   "codemirror_mode": {
    "name": "ipython",
    "version": 3
   },
   "file_extension": ".py",
   "mimetype": "text/x-python",
   "name": "python",
   "nbconvert_exporter": "python",
   "pygments_lexer": "ipython3",
   "version": "3.11.4"
  }
 },
 "nbformat": 4,
 "nbformat_minor": 2
}
